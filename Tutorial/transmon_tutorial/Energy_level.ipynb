{
 "cells": [
  {
   "cell_type": "markdown",
   "metadata": {},
   "source": [
    "# Energy level\n",
    "> @author: Jiheng Duan, Pan Shi\n",
    "\n",
    "## About\n",
    "\n",
    "This document will tell you how to scan and plot energy level. Also, we will show you how to cross the avoid crossing point.\n",
    "\n",
    "### Required Import\n",
    "\n",
    "**The following thing must be import.**\n",
    "\n",
    "In the current folder (despite `~\\Tutorial\\arb_qubit_tutorial\\`), the system structure are based on file `~\\System\\transmon_system.py`. For using arbitrary qubit system structure, please move to the demonstration file under `~\\Tutorial\\arb_qubit_tutorial\\`."
   ]
  },
  {
   "cell_type": "code",
   "execution_count": 1,
   "metadata": {},
   "outputs": [],
   "source": [
    "import numpy as np\n",
    "import matplotlib.pyplot as plt\n",
    "import sys\n",
    "# # This on is a path correcting code, which is used to find the path of qusim.\n",
    "sys.path.append('../..')\n",
    "\n",
    "import qusim.System.transmon_system as qs\n",
    "# Some useful tools\n",
    "import qusim.Instruments.tools as tools\n",
    "# Some intrinsic plotting function\n",
    "import qusim.DataPlot.plot_lib as pl\n",
    "# The avoid crossing tool\n",
    "from qusim.Instruments.avoid_crossing import SwapAvoidCrossing\n",
    "from qutip import *"
   ]
  },
  {
   "cell_type": "markdown",
   "metadata": {},
   "source": [
    "### Optional import\n",
    "\n",
    "**The following import are optional**"
   ]
  },
  {
   "cell_type": "code",
   "execution_count": 2,
   "metadata": {},
   "outputs": [],
   "source": [
    "# Print the full output\n",
    "np.set_printoptions(threshold=sys.maxsize)\n",
    "\n",
    "# auto reload\n",
    "%load_ext autoreload\n",
    "%autoreload 2 \n",
    "\n",
    "# variable name -> string\n",
    "def var_name2str(variable):\n",
    "    def nested_var_name2str(value):\n",
    "        if isinstance(value, list):\n",
    "            return [nested_var_name2str(item) for item in value]\n",
    "        else:\n",
    "            for name in globals():\n",
    "                if eval(name) == value:\n",
    "                    return name\n",
    "            return str(value)\n",
    "    return nested_var_name2str(variable)"
   ]
  },
  {
   "cell_type": "markdown",
   "metadata": {},
   "source": [
    "### Set up system parameter"
   ]
  },
  {
   "cell_type": "code",
   "execution_count": 3,
   "metadata": {},
   "outputs": [],
   "source": [
    "N = None # Maximum excitation level\n",
    "w = [7, 5.6, 6.6] # Qubit frequency\n",
    "q_dim = [4 for _ in range(len(w))]\n",
    "alpha =[-0.24, -0.14, -0.24] # Anharmonicity\n",
    "r_dic = {\n",
    "    \"r12\": 0.11,\n",
    "    \"r13\": 0.006,\n",
    "    \"r23\": 0.11\n",
    "}\n",
    "r = tools.r2matrix(r_dic, w) # Coupling strength\n",
    "gamma_list = None # Gamma up, Gamma down, Gamma z"
   ]
  },
  {
   "cell_type": "markdown",
   "metadata": {},
   "source": [
    "### Define scanning parameter\n",
    "\n",
    "Here, we need to define what kind of parameter we want to scan. For example, here I want to scan the coupler frequency `w2`, what should I do is define a `np.linspace()` with starting, ending points, and the simulation steps. \n",
    "\n",
    "Also, the number of levels you wan to simulated will also be defined. For instance, we want to see the first twenty levels: `num_level = 20`."
   ]
  },
  {
   "cell_type": "code",
   "execution_count": 4,
   "metadata": {},
   "outputs": [],
   "source": [
    "num_level = 20 # Num of level we want to see\n",
    "w2_scan_space= np.linspace(5.5, 8, 800)"
   ]
  },
  {
   "cell_type": "markdown",
   "metadata": {},
   "source": [
    "### Scanning"
   ]
  },
  {
   "cell_type": "code",
   "execution_count": 5,
   "metadata": {},
   "outputs": [],
   "source": [
    "energy_level_list = []\n",
    "for w2 in w2_scan_space:\n",
    "    dummy_list = []\n",
    "    w[1] = w2\n",
    "    _system = qs.TransmonSys(N, q_dim, w, alpha, r, gamma_list)\n",
    "    for j in range(0,num_level):\n",
    "        dummy_list.append((_system.H.eigenenergies()[j] / np.pi/2).real)\n",
    "    energy_level_list.append(dummy_list)"
   ]
  },
  {
   "cell_type": "markdown",
   "metadata": {},
   "source": [
    "### Plot the energy level\n",
    "\n",
    "Here , we can control how many level we want to plot.\n",
    "\n",
    "The build-in plot function `pl.plot_Elevel_dynamics(w2_scan_space, energy_level_list, 20, \"\\omega_c\")` can be controlled by change the number of level you can to see, which is 20 here.\n",
    "\n",
    "If you want to see less level (e.g., 3 levels), just use\n",
    "`pl.plot_Elevel_dynamics(w2_scan_space, energy_level_list, 3, \"\\omega_c\")`.\n",
    "\n",
    "The `\"\\omega_c\"` is the title of the x-axis, which is the axis of data `w2_scan_space`."
   ]
  },
  {
   "cell_type": "code",
   "execution_count": 7,
   "metadata": {},
   "outputs": [],
   "source": [
    "%matplotlib qt\n",
    "pl.plot_Elevel_dynamics(w2_scan_space, energy_level_list, 20, \"\\omega_c\")"
   ]
  },
  {
   "cell_type": "markdown",
   "metadata": {},
   "source": [
    "### Threshold of Avoid-crossing\n",
    "\n",
    "If the system evolution is smooth and slow enough, which satisfies the adiabatic condition, that means the energy level will not swap at the avoid crossing points. \n",
    "\n",
    "But if the avoid crossing space is too narrow, we could somehow simulated the crossing of energy level happens at the avoid crossing points when the space between these two levels is smaller than a threshold.\n",
    "\n",
    "Here, we use a build-in tool `SwapAvoidCrossing` to give automatically adjust whether the level should be swap or not.\n",
    "\n",
    "You only need to define a ``threshold`` to control the algorithm."
   ]
  },
  {
   "cell_type": "code",
   "execution_count": 9,
   "metadata": {},
   "outputs": [],
   "source": [
    "threshold  = 0.1 # GHz\n",
    "energy_level_crossing = SwapAvoidCrossing(energy_level_list, w2_scan_space, threshold).swap()\n",
    "pl.plot_Elevel_dynamics(w2_scan_space, energy_level_crossing, 20, \"\\omega_c\")"
   ]
  }
 ],
 "metadata": {
  "kernelspec": {
   "display_name": "Qusim",
   "language": "python",
   "name": "python3"
  },
  "language_info": {
   "codemirror_mode": {
    "name": "ipython",
    "version": 3
   },
   "file_extension": ".py",
   "mimetype": "text/x-python",
   "name": "python",
   "nbconvert_exporter": "python",
   "pygments_lexer": "ipython3",
   "version": "3.10.13"
  }
 },
 "nbformat": 4,
 "nbformat_minor": 2
}
